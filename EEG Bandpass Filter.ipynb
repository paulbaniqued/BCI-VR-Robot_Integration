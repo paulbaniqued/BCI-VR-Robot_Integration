{
 "cells": [
  {
   "cell_type": "markdown",
   "metadata": {},
   "source": [
    "# Using a Bandpass Filter to Extract Mu Signal (9-11 Hz) from Raw Electroencephalography Data in Python\n",
    "\n",
    "I am trying to extract Mu signals related to motor imagery for a 10-second trial. Raw EEG is recorded using an 8-channel Enobio dry EEG acquisition system. From the hardware's in-build acquisition system, a signal is streamed in Python using the labstreaminglayer package. Signal sampling is initiated when the scrip receives a cue from the stimuli presenter. This code runs for 12.5 seconds and include a preparation stage (3.5 secs), cue stage (6.5 secs), and rest stage (2.5 secs). "
   ]
  },
  {
   "cell_type": "code",
   "execution_count": null,
   "metadata": {},
   "outputs": [],
   "source": [
    "# Resolve an EEG stream on the lab network\n",
    "print(\"looking for EEG and marker streams...\")\n",
    "outlet.push_sample(['200']) #Connect to LSL\n",
    "streams = resolve_stream('type', 'EEG')\n",
    "streams2 = resolve_stream('type', 'Markers')\n",
    "\n",
    "# Create a new inlet to read from the stream\n",
    "inlet = StreamInlet(streams[0]) #EEG\n",
    "get_ready = StreamInlet(streams2[0]) #marker\n",
    "print(\"Found EEG and marker streams...\")\n",
    "time.sleep(2.5)\n",
    "outlet.push_sample(['300']) # Send signal to start playing\n",
    "\n",
    "while True:\n",
    "\n",
    "    now_ready = get_ready.pull_sample()[0][0]\n",
    "\n",
    "    if now_ready == \"0\":\n",
    "        print(\"Now ready!!!!\")\n",
    "\n",
    "    elif now_ready == \"2\":\n",
    "        print(\"sampling EEG... \")\n",
    "        for i in range(6250-1): # 1750 samples (3.5s) baseline, 3250 samples (6.5s) trial, total of 5000 (change no_timesteps)\n",
    "            sample, timestamp = inlet.pull_sample()\n",
    "            C3 = np.append(C3, sample[0])\n",
    "            C4 = np.append(C4, sample[1])\n",
    "            FC5 = np.append(FC5, sample[2])\n",
    "            FC6 = np.append(FC6, sample[3])\n",
    "            C1 = np.append(C1, sample[4])\n",
    "            C2 = np.append(C2, sample[5])\n",
    "            CP5 = np.append(CP5, sample[6])\n",
    "            CP6 = np.append(CP6, sample[7])\n",
    "            eeg_raw = np.array([C3, C4, FC5, FC6, C1, C2, CP5, CP6])\n",
    "\n",
    "        print(\"sampling ended...\")"
   ]
  },
  {
   "cell_type": "markdown",
   "metadata": {},
   "source": []
  }
 ],
 "metadata": {
  "kernelspec": {
   "display_name": "Python 3",
   "language": "python",
   "name": "python3"
  },
  "language_info": {
   "codemirror_mode": {
    "name": "ipython",
    "version": 3
   },
   "file_extension": ".py",
   "mimetype": "text/x-python",
   "name": "python",
   "nbconvert_exporter": "python",
   "pygments_lexer": "ipython3",
   "version": "3.7.0"
  }
 },
 "nbformat": 4,
 "nbformat_minor": 2
}
